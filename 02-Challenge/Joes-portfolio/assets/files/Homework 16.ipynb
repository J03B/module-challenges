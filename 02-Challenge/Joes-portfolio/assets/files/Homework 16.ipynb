{
 "cells": [
  {
   "cell_type": "markdown",
   "metadata": {},
   "source": [
    "Mixture Equilibrium\n",
    "---\n",
    "Important Libraries"
   ]
  },
  {
   "cell_type": "code",
   "execution_count": 12,
   "metadata": {},
   "outputs": [],
   "source": [
    "import numpy as np\n",
    "from scipy.optimize import fsolve"
   ]
  },
  {
   "cell_type": "markdown",
   "metadata": {},
   "source": [
    "# Problem 1\n",
    "(a) Determine the total pressure and the composition of the vapor in equilibrium\n",
    "with a liquid mixture of 50 mol% ethanol, 30 mol% 1-propanol, and 20 mol% 2-\n",
    "butanol at 60 $^o$C. Assume Raoult’s law behavior.\n"
   ]
  },
  {
   "cell_type": "code",
   "execution_count": 13,
   "metadata": {},
   "outputs": [
    {
     "name": "stdout",
     "output_type": "stream",
     "text": [
      "The total pressure is 0.3326 bar\n",
      "The composition of the vapor is:\n",
      "y_ethanol  = 0.707\n",
      "y_propanol = 0.183\n",
      "y_butanol  = 0.110\n"
     ]
    }
   ],
   "source": [
    "# [ethanol, 1-propanol, 2-butanol]\n",
    "x = [0.5, 0.3, 0.2]                     # mol frac liquid\n",
    "temp = 60 + 273.15                      # K\n",
    "psat = [0.47018, 0.20338, 0.18258]      # bar\n",
    "\n",
    "# Calculate total pressure and compositions\n",
    "pres = sum([x[i]*psat[i] for i in range(len(x))])  # bar\n",
    "y = [x[i]*psat[i]/pres for i in range(len(x))]\n",
    "\n",
    "print(f\"The total pressure is {pres:.4f} bar\\nThe composition of the vapor is:\")\n",
    "print(f\"y_ethanol  = {y[0]:.3f}\\ny_propanol = {y[1]:.3f}\\ny_butanol  = {y[2]:.3f}\")"
   ]
  },
  {
   "cell_type": "markdown",
   "metadata": {},
   "source": [
    "(b) Determine the total pressure and the composition of the liquid in equilibrium\n",
    "with a vapor mixture of 50 mol% ethanol, 30 mol% 1-propanol, and 20 mol% 2-\n",
    "butanol at 60 $^o$C. Assume Raoult’s law behavior."
   ]
  },
  {
   "cell_type": "code",
   "execution_count": 14,
   "metadata": {},
   "outputs": [
    {
     "name": "stdout",
     "output_type": "stream",
     "text": [
      "The total pressure is 0.2752 bar\n",
      "The composition of the liquid is:\n",
      "x_ethanol  = 0.293\n",
      "x_propanol = 0.406\n",
      "x_butanol  = 0.301\n"
     ]
    }
   ],
   "source": [
    "# [ethanol, 1-propanol, 2-butanol]\n",
    "y = [0.5, 0.3, 0.2]                     # mol frac vapor\n",
    "temp = 60 + 273.15                      # K\n",
    "psat = [0.47018, 0.20338, 0.18258]      # bar\n",
    "\n",
    "# Calculate total pressure and compositions\n",
    "pres = fsolve(lambda p: sum([y[i]*p/psat[i] for i in range(len(y))]) - 1,1)[0]  # bar\n",
    "x = [y[i]*pres/psat[i] for i in range(len(y))]\n",
    "\n",
    "print(f\"The total pressure is {pres:.4f} bar\\nThe composition of the liquid is:\")\n",
    "print(f\"x_ethanol  = {x[0]:.3f}\\nx_propanol = {x[1]:.3f}\\nx_butanol  = {x[2]:.3f}\")"
   ]
  },
  {
   "cell_type": "markdown",
   "metadata": {},
   "source": [
    "# Problem 2"
   ]
  },
  {
   "cell_type": "markdown",
   "metadata": {},
   "source": [
    "(a) Determine the temperature and the composition of the vapor in equilibrium\n",
    "with a liquid mixture of 50 mol% ethanol, 30 mol% 1-propanol, and 20 mol% 2-\n",
    "butanol at 1 atm. Assume Raoult’s law behavior."
   ]
  },
  {
   "cell_type": "code",
   "execution_count": 15,
   "metadata": {},
   "outputs": [
    {
     "name": "stdout",
     "output_type": "stream",
     "text": [
      "The temperature is 359.61 K\n",
      "The composition of the vapor is:\n",
      "y_ethanol  = 0.683\n",
      "y_propanol = 0.197\n",
      "y_butanol  = 0.120\n"
     ]
    }
   ],
   "source": [
    "# [ethanol, 1-propanol, 2-butanol]\n",
    "x = [0.5, 0.3, 0.2]                     # mol frac vapor\n",
    "pres = 1.01325                          # bar\n",
    "Psat = lambda A,T: np.exp(A[0]+A[1]/T+A[2]*np.log(T)+A[3]*T**A[4])/100000       # bar\n",
    "\n",
    "e_cond = [73.304, -7122.3, -7.1424,2.8853E-06, 2]\n",
    "p_cond = [84.66416,-8307.24422,-8.57673,7.50905E-18,6]\n",
    "b_cond = [122.552,-10236.2,-14.125,2.35591E-17,6]\n",
    "psat = lambda T: [Psat(e_cond,T),Psat(p_cond,T),Psat(b_cond,T)]                 # bar\n",
    "\n",
    "# Calculate total pressure and compositions\n",
    "temp = fsolve(lambda T: sum([x[i]*psat(T)[i] for i in range(len(x))]) - pres,400)[0]  # bar\n",
    "y = [x[i]*psat(temp)[i]/pres for i in range(len(x))]\n",
    "\n",
    "print(f\"The temperature is {temp:.2f} K\\nThe composition of the vapor is:\")\n",
    "print(f\"y_ethanol  = {y[0]:.3f}\\ny_propanol = {y[1]:.3f}\\ny_butanol  = {y[2]:.3f}\")"
   ]
  },
  {
   "cell_type": "markdown",
   "metadata": {},
   "source": [
    "(b) Determine the temperature and the composition of the liquid in equilibrium\n",
    "with a vapor mixture of 50 mol% ethanol, 30 mol% 1-propanol, and 20 mol% 2-\n",
    "butanol at 1 atm. Assume Raoult’s law behavior."
   ]
  },
  {
   "cell_type": "code",
   "execution_count": 16,
   "metadata": {},
   "outputs": [
    {
     "name": "stdout",
     "output_type": "stream",
     "text": [
      "The temperature is 363.34 K\n",
      "The composition of the liquid is:\n",
      "x_ethanol  = 0.319\n",
      "x_propanol = 0.393\n",
      "x_butanol  = 0.288\n"
     ]
    }
   ],
   "source": [
    "y = [0.5, 0.3, 0.2]                     # mol frac vapor\n",
    "pres = 1.01325                          # bar\n",
    "Psat = lambda A,T: np.exp(A[0]+A[1]/T+A[2]*np.log(T)+A[3]*T**A[4])/100000       # bar\n",
    "\n",
    "e_cond = [73.304, -7122.3, -7.1424,2.8853E-06, 2]\n",
    "p_cond = [84.66416,-8307.24422,-8.57673,7.50905E-18,6]\n",
    "b_cond = [122.552,-10236.2,-14.125,2.35591E-17,6]\n",
    "psat = lambda T: [Psat(e_cond,T),Psat(p_cond,T),Psat(b_cond,T)]                 # bar\n",
    "\n",
    "# Calculate total pressure and compositions\n",
    "temp = fsolve(lambda T: sum([y[i]*pres/psat(T)[i] for i in range(len(y))]) - 1,400)[0]  # bar\n",
    "x = [y[i]*pres/psat(temp)[i] for i in range(len(y))]\n",
    "\n",
    "print(f\"The temperature is {temp:.2f} K\\nThe composition of the liquid is:\")\n",
    "print(f\"x_ethanol  = {x[0]:.3f}\\nx_propanol = {x[1]:.3f}\\nx_butanol  = {x[2]:.3f}\")"
   ]
  },
  {
   "cell_type": "markdown",
   "metadata": {},
   "source": [
    "# Problem 3"
   ]
  },
  {
   "cell_type": "markdown",
   "metadata": {},
   "source": [
    "Perform a flash calculation for the binary system composed of 50 mol% n-butane\n",
    "and 50 mol% n-pentane at 20.0$^o$C and 1.00 atm. Determine the amounts of the\n",
    "vapor and liquid phases and the compositions of each. Assume Raoult’s law\n",
    "behavior."
   ]
  },
  {
   "cell_type": "code",
   "execution_count": 17,
   "metadata": {},
   "outputs": [
    {
     "name": "stdout",
     "output_type": "stream",
     "text": [
      "The liquid compositions are as follows:\n",
      "x_butane = 0.2954\tx_pentane = 0.7046\n",
      "\n",
      "The vapor compositions are as follows:\n",
      "y_butane = 0.6064\ty_pentane = 0.3936\n",
      "\n"
     ]
    }
   ],
   "source": [
    "# [n-butane, n-pentane]\n",
    "z = [0.5, 0.5]\n",
    "temp = 273.15 + 20      # K\n",
    "pres = 1.01325          # bar\n",
    "\n",
    "b_cond = [66.343,-4363.2,-7.046,9.4509E-06, 2]\n",
    "p_cond = [78.741,-5420.3,-8.8253,9.6171E-06,2]\n",
    "psat = lambda T: [Psat(b_cond,temp),Psat(p_cond,temp)]      # bar\n",
    "\n",
    "def comps(inp):\n",
    "    X1,Y1 = inp\n",
    "    x = [X1, 1 - X1]\n",
    "    y = [Y1, 1 - Y1]\n",
    "    eq1 = sum([x[0]*psat(temp)[0], x[1]*psat(temp)[1]]) - pres\n",
    "    eq2 = sum([y[i]*pres/psat(temp)[i] for i in range(len(z))]) - 1\n",
    "    return eq1,eq2\n",
    "\n",
    "x,y = fsolve(comps,[.5,.5])\n",
    "x = [x, 1-x]; y = [y, 1-y]\n",
    "print(f\"The liquid compositions are as follows:\\nx_butane = {x[0]:.4f}\\tx_pentane = {x[1]:.4f}\\n\")\n",
    "print(f\"The vapor compositions are as follows:\\ny_butane = {y[0]:.4f}\\ty_pentane = {y[1]:.4f}\\n\")"
   ]
  },
  {
   "cell_type": "markdown",
   "metadata": {},
   "source": [
    "Complex Vapor Liquid Equilibrium\n",
    "---\n",
    "Important Libraries"
   ]
  },
  {
   "cell_type": "code",
   "execution_count": 18,
   "metadata": {},
   "outputs": [],
   "source": [
    "import numpy as np\n",
    "from scipy.optimize import fsolve\n",
    "from IPython.display import Image, display"
   ]
  },
  {
   "cell_type": "markdown",
   "metadata": {},
   "source": [
    "# Problem 1\n",
    "An equimolar mixture of acetone (1), ethanol (2), and ethyl ether (3) is at $55^{\\circ}C$.\n",
    "Liquid densities are 0.790, 0.789, and 0.713 g/cm3, respectively. Vapor-phase\n",
    "behavior may be taken as ideal. Wilson coefficients at $55^{\\circ} C$ are listed below:<br>\n",
    "Mixture $\\Lambda12\\> \\Lambda21$<br>\n",
    "12 0.30771 1.20101<br>\n",
    "13 0.49880 0.86494<br>\n",
    "23 0.29207 0.77045"
   ]
  },
  {
   "cell_type": "markdown",
   "metadata": {},
   "source": [
    "## Part a\n",
    "Find the bubblepoint and dewpoint pressures and compositions using Python."
   ]
  },
  {
   "cell_type": "code",
   "execution_count": 19,
   "metadata": {},
   "outputs": [
    {
     "name": "stdout",
     "output_type": "stream",
     "text": [
      "The dew point pressure is: 0.9446 bar\n",
      "The composition is as follows:\n",
      "y_acetone = 0.280\n",
      "y_ethanol = 0.610\n",
      "y_ethylether = 0.111\n",
      "\n",
      "The bubble point pressure is: 1.4142 bar\n",
      "The composition is as follows:\n",
      "y_acetone = 0.286\n",
      "y_ethanol = 0.156\n",
      "y_ethylether = 0.558\n"
     ]
    }
   ],
   "source": [
    "# [acetone, ethanol, ethyl ether]\n",
    "temp = 273.15 + 55\n",
    "rho = [0.790, 0.789, 0.713]\n",
    "z = [1/3, 1/3, 1/3]\n",
    "Lambda = [[1, 0.30771, 0.49880],\n",
    "          [1.20101, 1, 0.29207],\n",
    "          [0.86494, 0.77045, 1]]\n",
    "\n",
    "def ACγ(x):\n",
    "    lnγi = [0, 0, 0]\n",
    "    for i in range(len(rho)):\n",
    "        first = sum([x[j] * Lambda[i][j] for j in range(len(x))])\n",
    "        sec = sum([(x[k]*Lambda[k][i])/sum([x[j]*Lambda[k][j] for j in range(len(x))]) for k in range(len(x))])\n",
    "        lnγi[i] = -np.log(first) + 1 - sec\n",
    "    return [np.exp(lnγi[i]) for i in range(len(x))]\n",
    "\n",
    "Psat = lambda A,T: np.exp(A[0]+A[1]/T+A[2]*np.log(T)+A[3]*T**A[4])/100000   # bar\n",
    "a_cond = [57.9467,-5355.27,-5.21058,1.24493E-14,5]\n",
    "e_cond = [73.304, -7122.3, -7.1424, 2.8853E-06, 2]\n",
    "ee_cond= [136.9,  -6954.3, -19.254, 0.024508,   1]\n",
    "psat = lambda T: [Psat(a_cond,T),Psat(e_cond,T),Psat(ee_cond,temp)]         # bar\n",
    "\n",
    "# Calculate bubble point as if given comps were liquid fractions\n",
    "bp_g = ACγ(z)\n",
    "bp_P = fsolve(lambda P: sum([z[i]*P/(psat(temp)[i]*bp_g[i]) for i in range(len(z))]) - 1, 1)[0]\n",
    "bp_y = [z[i]*bp_P/(psat(temp)[i]*bp_g[i]) for i in range(len(z))]\n",
    "\n",
    "# Calculate dew point as if given comps were vapor fractions\n",
    "dp_P = lambda x: sum([z[i]*ACγ(x)[i]*psat(temp)[i] for i in range(len(z))])\n",
    "def dpPx(inp):\n",
    "    P = inp[0]\n",
    "    x = inp[1:]\n",
    "    eq1 = dp_P(x) - P\n",
    "    eq2 = [0,0,0]\n",
    "    for i in range(len(x)):\n",
    "        eq2[i] = z[i]*ACγ(x)[i]*psat(temp)[i] - x[i]*dp_P(x)\n",
    "    return [eq1,eq2[0],eq2[1],eq2[2]]\n",
    "guess = [1,1/3,1/3,1/3]\n",
    "ans = fsolve(dpPx,guess)\n",
    "dp_p= ans[0]\n",
    "dp_x= ans[1:]\n",
    "\n",
    "print(f\"The dew point pressure is: {bp_P:.4f} bar\")\n",
    "print(f\"The composition is as follows:\\ny_acetone = {bp_y[0]:.3f}\\ny_ethanol = {bp_y[1]:.3f}\\ny_ethylether = {bp_y[2]:.3f}\\n\")\n",
    "print(f\"The bubble point pressure is: {dp_p:.4f} bar\")\n",
    "print(f\"The composition is as follows:\\ny_acetone = {dp_x[0]:.3f}\\ny_ethanol = {dp_x[1]:.3f}\\ny_ethylether = {dp_x[2]:.3f}\")"
   ]
  },
  {
   "cell_type": "markdown",
   "metadata": {},
   "source": [
    "## PFD"
   ]
  },
  {
   "cell_type": "code",
   "execution_count": 20,
   "metadata": {},
   "outputs": [
    {
     "data": {
      "image/png": "[encoded data removed]",
      "text/plain": [
       "<IPython.core.display.Image object>"
      ]
     },
     "metadata": {},
     "output_type": "display_data"
    }
   ],
   "source": [
    "display(Image(\"HW17_PFD.png\"))"
   ]
  }
 ],
 "metadata": {
  "kernelspec": {
   "display_name": "Python 3.10.7 64-bit",
   "language": "python",
   "name": "python3"
  },
  "language_info": {
   "codemirror_mode": {
    "name": "ipython",
    "version": 3
   },
   "file_extension": ".py",
   "mimetype": "text/x-python",
   "name": "python",
   "nbconvert_exporter": "python",
   "pygments_lexer": "ipython3",
   "version": "3.10.7"
  },
  "vscode": {
   "interpreter": {
    "hash": "fb4569285eef3a3450cb62085a5b1e0da4bce0af555edc33dcf29baf3acc1368"
   }
  }
 },
 "nbformat": 4,
 "nbformat_minor": 2
}
